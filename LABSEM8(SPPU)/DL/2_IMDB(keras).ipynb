{
  "nbformat": 4,
  "nbformat_minor": 0,
  "metadata": {
    "colab": {
      "provenance": []
    },
    "kernelspec": {
      "name": "python3",
      "display_name": "Python 3"
    },
    "language_info": {
      "name": "python"
    }
  },
  "cells": [
    {
      "cell_type": "code",
      "execution_count": null,
      "metadata": {
        "id": "FI90jg0rsA35"
      },
      "outputs": [],
      "source": [
        "from tensorflow.keras.datasets import imdb"
      ]
    },
    {
      "cell_type": "code",
      "source": [
        "(train_data, train_label), (test_data, test_label) = imdb.load_data(num_words = 10000)"
      ],
      "metadata": {
        "colab": {
          "base_uri": "https://localhost:8080/"
        },
        "id": "-fg4l6NVttGE",
        "outputId": "23e24a04-25cd-4c7a-9146-e8c6e4cfc067"
      },
      "execution_count": null,
      "outputs": [
        {
          "output_type": "stream",
          "name": "stdout",
          "text": [
            "Downloading data from https://storage.googleapis.com/tensorflow/tf-keras-datasets/imdb.npz\n",
            "17464789/17464789 [==============================] - 0s 0us/step\n"
          ]
        }
      ]
    },
    {
      "cell_type": "code",
      "source": [
        "\n"
      ],
      "metadata": {
        "id": "teTkWcyBa0l4"
      },
      "execution_count": null,
      "outputs": []
    },
    {
      "cell_type": "code",
      "source": [
        "import numpy as np\n",
        "\n",
        "def vectorize_sequences(sequences, dimensions = 10000):\n",
        "  results = np.zeros((len(sequences), dimensions))\n",
        "  for i,sequences in enumerate(sequences):\n",
        "    results[i, sequences] = 1\n",
        "  return results\n",
        "\n",
        "x_train = vectorize_sequences(train_data)\n",
        "y_train = vectorize_sequences(test_data)"
      ],
      "metadata": {
        "id": "RZTkogjVttIJ"
      },
      "execution_count": null,
      "outputs": []
    },
    {
      "cell_type": "code",
      "source": [
        "y_train = np.asarray(train_label).astype('float32')\n",
        "y_test = np.asarray(test_label).astype('float32')\n"
      ],
      "metadata": {
        "id": "Ag9-pVahttLA"
      },
      "execution_count": null,
      "outputs": []
    },
    {
      "cell_type": "code",
      "source": [
        "from tensorflow.keras.models import Sequential\n",
        "from tensorflow.keras.layers import Dense"
      ],
      "metadata": {
        "id": "FNTx5SGKttOj"
      },
      "execution_count": null,
      "outputs": []
    },
    {
      "cell_type": "code",
      "source": [
        "model = Sequential()\n",
        "model.add(Dense(16, input_shape=(10000, ), activation = \"relu\"))\n",
        "model.add(Dense(16, activation = \"relu\"))\n",
        "model.add(Dense(1, activation = \"sigmoid\")) ## sigmoid function is generally used for classification task"
      ],
      "metadata": {
        "id": "XTjel2VXt8l9"
      },
      "execution_count": null,
      "outputs": []
    },
    {
      "cell_type": "code",
      "source": [
        "model.compile(optimizer='adam', loss = 'mse', metrics = ['accuracy'])"
      ],
      "metadata": {
        "id": "nP8rfJZDt8oc"
      },
      "execution_count": null,
      "outputs": []
    },
    {
      "cell_type": "code",
      "source": [
        "model.summary()"
      ],
      "metadata": {
        "colab": {
          "base_uri": "https://localhost:8080/"
        },
        "id": "MKc2OovUt8rv",
        "outputId": "54d74ffb-8e13-4145-f158-a4be9cfd0daf"
      },
      "execution_count": null,
      "outputs": [
        {
          "output_type": "stream",
          "name": "stdout",
          "text": [
            "Model: \"sequential\"\n",
            "_________________________________________________________________\n",
            " Layer (type)                Output Shape              Param #   \n",
            "=================================================================\n",
            " dense (Dense)               (None, 16)                160016    \n",
            "                                                                 \n",
            " dense_1 (Dense)             (None, 16)                272       \n",
            "                                                                 \n",
            " dense_2 (Dense)             (None, 1)                 17        \n",
            "                                                                 \n",
            "=================================================================\n",
            "Total params: 160305 (626.19 KB)\n",
            "Trainable params: 160305 (626.19 KB)\n",
            "Non-trainable params: 0 (0.00 Byte)\n",
            "_________________________________________________________________\n"
          ]
        }
      ]
    },
    {
      "cell_type": "code",
      "source": [
        "history = model.fit(x_train, y_train, validation_split = 0.3, epochs = 20, verbose = 1, batch_size = 512)"
      ],
      "metadata": {
        "colab": {
          "base_uri": "https://localhost:8080/"
        },
        "id": "yDVN5ttiuCkr",
        "outputId": "96b4fcae-00b1-435e-84e4-4e8b896d2005"
      },
      "execution_count": null,
      "outputs": [
        {
          "output_type": "stream",
          "name": "stdout",
          "text": [
            "Epoch 1/20\n",
            "35/35 [==============================] - 3s 55ms/step - loss: 0.2020 - accuracy: 0.7338 - val_loss: 0.1439 - val_accuracy: 0.8616\n",
            "Epoch 2/20\n",
            "35/35 [==============================] - 1s 29ms/step - loss: 0.1027 - accuracy: 0.8995 - val_loss: 0.0901 - val_accuracy: 0.8927\n",
            "Epoch 3/20\n",
            "35/35 [==============================] - 1s 30ms/step - loss: 0.0622 - accuracy: 0.9311 - val_loss: 0.0831 - val_accuracy: 0.8913\n",
            "Epoch 4/20\n",
            "35/35 [==============================] - 2s 51ms/step - loss: 0.0450 - accuracy: 0.9527 - val_loss: 0.0808 - val_accuracy: 0.8916\n",
            "Epoch 5/20\n",
            "35/35 [==============================] - 2s 46ms/step - loss: 0.0347 - accuracy: 0.9654 - val_loss: 0.0848 - val_accuracy: 0.8841\n",
            "Epoch 6/20\n",
            "35/35 [==============================] - 1s 28ms/step - loss: 0.0277 - accuracy: 0.9751 - val_loss: 0.0842 - val_accuracy: 0.8873\n",
            "Epoch 7/20\n",
            "35/35 [==============================] - 1s 28ms/step - loss: 0.0222 - accuracy: 0.9806 - val_loss: 0.0867 - val_accuracy: 0.8872\n",
            "Epoch 8/20\n",
            "35/35 [==============================] - 1s 29ms/step - loss: 0.0174 - accuracy: 0.9868 - val_loss: 0.0902 - val_accuracy: 0.8765\n",
            "Epoch 9/20\n",
            "35/35 [==============================] - 1s 28ms/step - loss: 0.0142 - accuracy: 0.9901 - val_loss: 0.0913 - val_accuracy: 0.8799\n",
            "Epoch 10/20\n",
            "35/35 [==============================] - 1s 27ms/step - loss: 0.0117 - accuracy: 0.9917 - val_loss: 0.0932 - val_accuracy: 0.8781\n",
            "Epoch 11/20\n",
            "35/35 [==============================] - 1s 27ms/step - loss: 0.0097 - accuracy: 0.9930 - val_loss: 0.0950 - val_accuracy: 0.8771\n",
            "Epoch 12/20\n",
            "35/35 [==============================] - 1s 27ms/step - loss: 0.0083 - accuracy: 0.9938 - val_loss: 0.0970 - val_accuracy: 0.8749\n",
            "Epoch 13/20\n",
            "35/35 [==============================] - 1s 32ms/step - loss: 0.0071 - accuracy: 0.9947 - val_loss: 0.0980 - val_accuracy: 0.8737\n",
            "Epoch 14/20\n",
            "35/35 [==============================] - 1s 27ms/step - loss: 0.0063 - accuracy: 0.9951 - val_loss: 0.0996 - val_accuracy: 0.8731\n",
            "Epoch 15/20\n",
            "35/35 [==============================] - 1s 35ms/step - loss: 0.0056 - accuracy: 0.9957 - val_loss: 0.1001 - val_accuracy: 0.8736\n",
            "Epoch 16/20\n",
            "35/35 [==============================] - 1s 42ms/step - loss: 0.0052 - accuracy: 0.9958 - val_loss: 0.1012 - val_accuracy: 0.8729\n",
            "Epoch 17/20\n",
            "35/35 [==============================] - 1s 40ms/step - loss: 0.0048 - accuracy: 0.9960 - val_loss: 0.1019 - val_accuracy: 0.8733\n",
            "Epoch 18/20\n",
            "35/35 [==============================] - 1s 27ms/step - loss: 0.0045 - accuracy: 0.9962 - val_loss: 0.1024 - val_accuracy: 0.8732\n",
            "Epoch 19/20\n",
            "35/35 [==============================] - 1s 27ms/step - loss: 0.0044 - accuracy: 0.9962 - val_loss: 0.1031 - val_accuracy: 0.8727\n",
            "Epoch 20/20\n",
            "35/35 [==============================] - 1s 28ms/step - loss: 0.0042 - accuracy: 0.9963 - val_loss: 0.1037 - val_accuracy: 0.8716\n"
          ]
        }
      ]
    },
    {
      "cell_type": "code",
      "source": [],
      "metadata": {
        "id": "hk0T15N5uX_u"
      },
      "execution_count": null,
      "outputs": []
    }
  ]
}